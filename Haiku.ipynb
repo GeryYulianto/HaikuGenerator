{
 "cells": [
  {
   "cell_type": "code",
   "execution_count": null,
   "metadata": {
    "colab": {
     "base_uri": "https://localhost:8080/"
    },
    "id": "IRtSN1CCJfEo",
    "outputId": "6dd01846-71d1-4aab-b4e2-e9de8d0495fe"
   },
   "outputs": [
    {
     "name": "stderr",
     "output_type": "stream",
     "text": [
      "The attention mask and the pad token id were not set. As a consequence, you may observe unexpected behavior. Please pass your input's `attention_mask` to obtain reliable results.\n",
      "Setting `pad_token_id` to `eos_token_id`:None for open-end generation.\n"
     ]
    },
    {
     "name": "stdout",
     "output_type": "stream",
     "text": [
      "Darth Vader quickly went by and said, \"I'm going to kill you.\" Vader was a bit surprised, but he was right. He was going after the Emperor.\n",
      "\n",
      "\"I'll kill him,\" Vader said. \"He's a good guy. I'm not going anywhere.\"\n"
     ]
    }
   ],
   "source": [
    "from transformers import GPT2LMHeadModel, GPT2Tokenizer\n",
    "import random\n",
    "\n",
    "# Load pre-trained GPT-2 model and tokenizer\n",
    "model_name = \"gpt2\"  # You can try larger models like \"gpt2-medium\" or \"gpt2-large\"\n",
    "model = GPT2LMHeadModel.from_pretrained(model_name)\n",
    "tokenizer = GPT2Tokenizer.from_pretrained(model_name)\n",
    "\n",
    "# Function to generate Haiku-like poetry\n",
    "def generate_haiku(prompt=\"A peaceful moment in nature\"):\n",
    "    # Encode the prompt\n",
    "    input_ids = tokenizer.encode(prompt, return_tensors=\"pt\")\n",
    "\n",
    "    # Generate text from the model\n",
    "    output = model.generate(input_ids, max_length=400, num_return_sequences=1, no_repeat_ngram_size=2, temperature=0.7)\n",
    "\n",
    "    # Decode and clean the output\n",
    "    generated_text = tokenizer.decode(output[0], skip_special_tokens=True)\n",
    "\n",
    "    # Extract the Haiku portion by splitting the generated text into lines\n",
    "    lines = generated_text.split(\"\\n\")\n",
    "\n",
    "    # Ensure it follows the Haiku structure by splitting lines (if needed)\n",
    "    haiku = \"\\n\".join(lines[:3])  # Take the first three lines if they exist\n",
    "\n",
    "    return haiku.strip()\n",
    "\n",
    "# Generate Haiku and print\n",
    "haiku = generate_haiku(\"Darth Vader quickly went by and\")\n",
    "print(haiku)\n"
   ]
  },
  {
   "cell_type": "code",
   "execution_count": null,
   "metadata": {
    "colab": {
     "base_uri": "https://localhost:8080/"
    },
    "id": "4MwNcyGlJ-KL",
    "outputId": "891930cc-b87c-4c92-e211-14b2bd0d77b5"
   },
   "outputs": [
    {
     "name": "stderr",
     "output_type": "stream",
     "text": [
      "The attention mask and the pad token id were not set. As a consequence, you may observe unexpected behavior. Please pass your input's `attention_mask` to obtain reliable results.\n",
      "Setting `pad_token_id` to `eos_token_id`:None for open-end generation.\n"
     ]
    },
    {
     "name": "stdout",
     "output_type": "stream",
     "text": [
      "The emperor of Japan was highly involved in the development of the Japanese language. He was a great admirer of Japanese culture and was the first to introduce the concept of \"Japanese\" to the world.\n",
      "\n",
      "The Japanese people were very much in love with the language and were willing to give up their native language for the sake of it. The Japanese were also very interested in learning the English language, and the idea of learning English was very popular among the people. In fact, the emperor was so impressed by the success of his countrymen that he sent his son, Yoshihiro, to Japan to teach the new language to his people, which was then called the \"English language.\"\n"
     ]
    }
   ],
   "source": [
    "haiku = generate_haiku(\"The emperor of Japan was highly involved in the\")\n",
    "print(haiku)"
   ]
  }
 ],
 "metadata": {
  "accelerator": "GPU",
  "colab": {
   "gpuType": "T4",
   "provenance": []
  },
  "kernelspec": {
   "display_name": "Python 3",
   "name": "python3"
  },
  "language_info": {
   "name": "python"
  }
 },
 "nbformat": 4,
 "nbformat_minor": 0
}
